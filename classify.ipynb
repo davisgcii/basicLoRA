{
 "cells": [
  {
   "cell_type": "code",
   "execution_count": 184,
   "metadata": {},
   "outputs": [],
   "source": [
    "import torch\n",
    "import torchvision\n",
    "import torchvision.transforms as transforms # common image transformations that can be chained together using Compose\n",
    "import torch.nn as nn\n",
    "import torch.nn.functional as F\n",
    "import math"
   ]
  },
  {
   "cell_type": "code",
   "execution_count": 185,
   "metadata": {},
   "outputs": [
    {
     "name": "stdout",
     "output_type": "stream",
     "text": [
      "MPS is available!\n"
     ]
    }
   ],
   "source": [
    "# set up MPS\n",
    "device = 'cpu'\n",
    "\n",
    "if not torch.backends.mps.is_available():\n",
    "    if not torch.backends.mps.is_built():\n",
    "        print(\"MPS not available because the current PyTorch install was not \"\n",
    "              \"built with MPS enabled.\")\n",
    "    else:\n",
    "        print(\"MPS not available because the current MacOS version is not 12.3+ \"\n",
    "              \"and/or you do not have an MPS-enabled device on this machine.\")\n",
    "\n",
    "else:\n",
    "    device = torch.device(\"mps\")\n",
    "    print(\"MPS is available!\")"
   ]
  },
  {
   "cell_type": "code",
   "execution_count": 186,
   "metadata": {},
   "outputs": [],
   "source": [
    "# create a transform object that converts an image to a tensor and normalizes its pixel values\n",
    "transform = transforms.Compose(\n",
    "    [transforms.ToTensor(), # convert image to tensor\n",
    "      transforms.Normalize((0.5, 0.5, 0.5), (0.5, 0.5, 0.5))]) # normalize pixel values of image"
   ]
  },
  {
   "cell_type": "code",
   "execution_count": 187,
   "metadata": {},
   "outputs": [
    {
     "name": "stdout",
     "output_type": "stream",
     "text": [
      "Files already downloaded and verified\n",
      "Files already downloaded and verified\n"
     ]
    }
   ],
   "source": [
    "batch_size = 4 # number of images per batch\n",
    "\n",
    "# download training dataset, apply transform, and load into DataLoader\n",
    "trainset = torchvision.datasets.CIFAR10(root='./data', train=True,\n",
    "                                        download=True, transform=transform)\n",
    "\n",
    "trainloader = torch.utils.data.DataLoader(trainset, batch_size=batch_size, # load data in batches\n",
    "                                          shuffle=True, num_workers=2)\n",
    "\n",
    "testset = torchvision.datasets.CIFAR10(root='./data', train=False, # download test dataset\n",
    "                                        download=True, transform=transform)\n",
    "\n",
    "testloader = torch.utils.data.DataLoader(testset, batch_size=batch_size, # load data in batches\n",
    "                                          shuffle=False, num_workers=2)\n",
    "\n",
    "classes = ('plane', 'car', 'bird', 'cat', 'deer', # class labels\n",
    "            'dog', 'frog', 'horse', 'ship', 'truck')\n",
    "\n"
   ]
  },
  {
   "cell_type": "code",
   "execution_count": 188,
   "metadata": {},
   "outputs": [],
   "source": [
    "# show some of the training images\n",
    "import matplotlib.pyplot as plt\n",
    "import numpy as np"
   ]
  },
  {
   "cell_type": "code",
   "execution_count": 189,
   "metadata": {},
   "outputs": [],
   "source": [
    "def showimg(img):\n",
    "  img = img / 2 + 0.5 # unnormalize\n",
    "  npimg = img.numpy() # convert to numpy array\n",
    "  plt.imshow(np.transpose(npimg, (1, 2, 0))) # transpose to get correct image orientation\n",
    "  plt.show()"
   ]
  },
  {
   "cell_type": "code",
   "execution_count": 190,
   "metadata": {},
   "outputs": [],
   "source": [
    "# get some random training images\n",
    "dataiter = iter(trainloader) # create an iterator\n",
    "images, labels = next(dataiter) # get the next batch of images and labels\n",
    "\n",
    "# # show images\n",
    "# showimg(torchvision.utils.make_grid(images))\n",
    "# # print labels\n",
    "# print(' '.join('%5s' % classes[labels[j]] for j in range(batch_size)))"
   ]
  },
  {
   "cell_type": "code",
   "execution_count": 191,
   "metadata": {},
   "outputs": [],
   "source": [
    "class ConvNet(nn.Module):\n",
    "    def __init__(self):\n",
    "        super().__init__()  # call the __init__() method of the parent class\n",
    "        # define the layers of the network here\n",
    "        self.conv1 = nn.Conv2d(\n",
    "            3, 6, 5\n",
    "        ) # 3 input channels, 6 output channels, 5x5 kernel\n",
    "        self.pool = nn.MaxPool2d(2, 2)  # 2x2 kernel, stride of 2\n",
    "        self.conv2 = nn.Conv2d(\n",
    "            6, 16, 5\n",
    "        ) # 6 input channels, 16 output channels, 5x5 kernel\n",
    "        self.pool = nn.MaxPool2d(2, 2)  # 2x2 kernel, stride of 2\n",
    "        self.conv3 = nn.Conv2d(\n",
    "            16, 32, 5\n",
    "        ) # 16 input channels, 32 output channels, 5x5 kernel\n",
    "        self.fc1 = nn.Linear(\n",
    "            16 * 5 * 5, 120\n",
    "        ) # 16 * 5 * 5 input features, 120 output features\n",
    "        self.fc2 = nn.Linear(120, 84)  # 120 input features, 84 output features\n",
    "        self.fc3 = nn.Linear(84, 10)  # 84 input features, 10 output features\n",
    "\n",
    "    def forward(self, x):  # define the forward pass\n",
    "        x = self.pool(F.relu(self.conv1(x)))  # convolve, apply ReLU, then pool\n",
    "        x = self.pool(F.relu(self.conv2(x)))  # convolve, apply ReLU, then pool\n",
    "        x = torch.flatten(x, 1)  # flatten all dimensions except batch\n",
    "        x = F.relu(self.fc1(x))  # apply ReLU\n",
    "        x = F.relu(self.fc2(x))  # apply ReLU\n",
    "        x = self.fc3(x)  # output layer\n",
    "        return x"
   ]
  },
  {
   "cell_type": "code",
   "execution_count": 192,
   "metadata": {},
   "outputs": [],
   "source": [
    "def print_params(model: nn.Module):\n",
    "  \"\"\"\n",
    "  Print the number of trainable and untrainable parameters in the model.\n",
    "  \n",
    "  Args:\n",
    "    model: The model to print the parameters of.\n",
    "  \"\"\"\n",
    "  trainable = 0 # number of trainable parameters\n",
    "  untrainable = 0 # number of untrainable parameters\n",
    "  trainable_size = 0 # size in mb of trainable parameters\n",
    "\n",
    "  print(\"Layers:\")\n",
    "  for name, param in model.named_parameters():\n",
    "    print(f\"- {name} of size {param.size()} -> {'trainable' if param.requires_grad else 'untrainable'}\")\n",
    "\n",
    "    if param.requires_grad: # if the parameter requires a gradient\n",
    "      trainable += param.numel() # increment the number of trainable parameters\n",
    "      trainable_size += param.numel() * param.element_size() # increment the size of trainable parameters\n",
    "    else: # otherwise\n",
    "      untrainable += param.numel() # increment the number of untrainable parameters\n",
    "\n",
    "  print(f\"\\nTrainable parameters: {trainable}\")\n",
    "  print(f\"Untrainable parameters: {untrainable}\")\n",
    "  print(f\"Total parameters: {trainable + untrainable}\")\n",
    "  print(f\"Percent trainable: {100 * trainable / (trainable + untrainable)}%\")\n",
    "  percentage = trainable_size / 1e6\n",
    "  print(f\"Size of trainable parameters: {percentage:.2f} mb\")"
   ]
  },
  {
   "cell_type": "code",
   "execution_count": 193,
   "metadata": {},
   "outputs": [
    {
     "name": "stdout",
     "output_type": "stream",
     "text": [
      "Layers:\n",
      "- conv1.weight of size torch.Size([6, 3, 5, 5]) -> trainable\n",
      "- conv1.bias of size torch.Size([6]) -> trainable\n",
      "- conv2.weight of size torch.Size([16, 6, 5, 5]) -> trainable\n",
      "- conv2.bias of size torch.Size([16]) -> trainable\n",
      "- conv3.weight of size torch.Size([32, 16, 5, 5]) -> trainable\n",
      "- conv3.bias of size torch.Size([32]) -> trainable\n",
      "- fc1.weight of size torch.Size([120, 400]) -> trainable\n",
      "- fc1.bias of size torch.Size([120]) -> trainable\n",
      "- fc2.weight of size torch.Size([84, 120]) -> trainable\n",
      "- fc2.bias of size torch.Size([84]) -> trainable\n",
      "- fc3.weight of size torch.Size([10, 84]) -> trainable\n",
      "- fc3.bias of size torch.Size([10]) -> trainable\n",
      "\n",
      "Trainable parameters: 74838\n",
      "Untrainable parameters: 0\n",
      "Total parameters: 74838\n",
      "Percent trainable: 100.0%\n",
      "Size of trainable parameters: 0.30 mb\n"
     ]
    }
   ],
   "source": [
    "net = ConvNet() # create a ConvNet object\n",
    "print_params(net) # print the number of trainable and untrainable parameters in the model"
   ]
  },
  {
   "cell_type": "code",
   "execution_count": 194,
   "metadata": {},
   "outputs": [],
   "source": [
    "import torch.optim as optim # package with common optimization algorithms\n",
    "\n",
    "criterion = nn.CrossEntropyLoss() # loss function\n",
    "optimizer = optim.SGD(net.parameters(), lr=0.001, momentum=0.9) # optimizer"
   ]
  },
  {
   "cell_type": "code",
   "execution_count": 195,
   "metadata": {},
   "outputs": [],
   "source": [
    "def train(model, criterion, optimizer, trainloader, num_epochs=2, device='cpu', announce=2000):\n",
    "    model.to(device)  # move the model to the device\n",
    "\n",
    "    for epoch in range(num_epochs):\n",
    "        running_loss = 0.0  # keep track of running loss\n",
    "        for i, data in enumerate(trainloader, 0):  # iterate over data\n",
    "            inputs, labels = data[0].to(device), data[1].to(device)  # get inputs and labels\n",
    "\n",
    "            # zero the parameter gradients (otherwise they are accumulated)\n",
    "            optimizer.zero_grad()\n",
    "\n",
    "            # forward + backward + optimize\n",
    "            outputs = model(inputs)  # forward pass\n",
    "            loss = criterion(outputs, labels)  # compute loss\n",
    "            loss.backward()  # backward pass\n",
    "            optimizer.step()  # optimize\n",
    "\n",
    "            # print statistics\n",
    "            running_loss += loss.item()\n",
    "            if i % 2000 == 1999:  # print every 2000 mini-batches\n",
    "                print('[%d, %5d] loss: %.3f' %\n",
    "                      (epoch + 1, i + 1, running_loss / announce))\n",
    "                running_loss = 0.0\n",
    "        print('Finished epoch %d' % (epoch + 1))\n",
    "\n",
    "    print('Finished training')"
   ]
  },
  {
   "cell_type": "code",
   "execution_count": 196,
   "metadata": {},
   "outputs": [
    {
     "name": "stdout",
     "output_type": "stream",
     "text": [
      "[1,  2000] loss: 2.191\n",
      "[1,  4000] loss: 1.830\n",
      "[1,  6000] loss: 1.693\n",
      "[1,  8000] loss: 1.590\n",
      "[1, 10000] loss: 1.531\n",
      "[1, 12000] loss: 1.479\n",
      "Finished epoch 1\n",
      "[2,  2000] loss: 1.416\n",
      "[2,  4000] loss: 1.386\n",
      "[2,  6000] loss: 1.360\n",
      "[2,  8000] loss: 1.341\n",
      "[2, 10000] loss: 1.311\n",
      "[2, 12000] loss: 1.298\n",
      "Finished epoch 2\n",
      "Finished training\n"
     ]
    }
   ],
   "source": [
    "train(net, criterion, optimizer, trainloader, num_epochs=2, device=device)"
   ]
  },
  {
   "cell_type": "code",
   "execution_count": 197,
   "metadata": {},
   "outputs": [],
   "source": [
    "PATH = './cifar_net.pth' # path to save the model\n",
    "torch.save(net.state_dict(), PATH) # save the model"
   ]
  },
  {
   "cell_type": "code",
   "execution_count": 198,
   "metadata": {},
   "outputs": [],
   "source": [
    "def test_model(model, testloader, classes):\n",
    "    \"\"\"\n",
    "    Test the model and print out the total accuracy and the accuracy for each class.\n",
    "    \n",
    "    Args:\n",
    "        model: The model to test.\n",
    "        testloader: The DataLoader for the test data.\n",
    "        classes: The class labels.\n",
    "    \"\"\"\n",
    "    dataiter = iter(testloader) # create an iterator\n",
    "    images, labels = next(dataiter) # get the next batch of images and labels\n",
    "\n",
    "    # print images\n",
    "    showimg(torchvision.utils.make_grid(images))\n",
    "    print('GroundTruth: ', ' '.join('%5s' % classes[labels[j]] for j in range(batch_size)))\n",
    "\n",
    "    images = images.to(device)\n",
    "    outputs = net(images) # get the network's predictions\n",
    "\n",
    "    _, predicted = torch.max(outputs, 1) # get the class with the highest score\n",
    "    print('Predicted: ', ' '.join('%5s' % classes[predicted[j]]\n",
    "                                for j in range(batch_size)))\n",
    "\n",
    "\n",
    "    correct = 0\n",
    "    total = 0\n",
    "    class_correct = list(0. for i in range(len(classes)))\n",
    "    class_total = list(0. for i in range(len(classes)))\n",
    "    accuracy_dict = {}\n",
    "\n",
    "    with torch.no_grad(): # don't compute gradients\n",
    "        for data in testloader: # iterate over data\n",
    "            images, labels = data[0].to(device), data[1].to(device) # get inputs and labels\n",
    "            outputs = model(images) # get the network's predictions\n",
    "            _, predicted = torch.max(outputs.data, 1) # get the class with the highest score\n",
    "            total += labels.size(0) # increment total by the number of labels\n",
    "            correct += (predicted == labels).sum().item() # increment correct by the number of correct predictions\n",
    "\n",
    "            c = (predicted == labels).squeeze()\n",
    "            for i in range(len(labels)):\n",
    "                label = labels[i]\n",
    "                class_correct[label] += c[i].item()\n",
    "                class_total[label] += 1\n",
    "\n",
    "    print(f\"Accuracy of the network on the 10000 test images: {100 * correct / total}%\\n\")\n",
    "\n",
    "    for i in range(len(classes)):\n",
    "        print('Accuracy of %5s : %2d %%' % (\n",
    "            classes[i], 100 * class_correct[i] / class_total[i]))\n",
    "        accuracy_dict[classes[i]] = 100 * class_correct[i] / class_total[i]\n",
    "\n",
    "    return accuracy_dict"
   ]
  },
  {
   "cell_type": "code",
   "execution_count": 199,
   "metadata": {},
   "outputs": [
    {
     "data": {
      "image/png": "[encoded data removed]",
      "text/plain": [
       "<Figure size 640x480 with 1 Axes>"
      ]
     },
     "metadata": {},
     "output_type": "display_data"
    },
    {
     "name": "stdout",
     "output_type": "stream",
     "text": [
      "GroundTruth:    cat  ship  ship plane\n",
      "Predicted:    cat  ship  ship  ship\n",
      "Accuracy of the network on the 10000 test images: 55.01%\n",
      "\n",
      "Accuracy of plane : 55 %\n",
      "Accuracy of   car : 67 %\n",
      "Accuracy of  bird : 48 %\n",
      "Accuracy of   cat : 41 %\n",
      "Accuracy of  deer : 50 %\n",
      "Accuracy of   dog : 38 %\n",
      "Accuracy of  frog : 58 %\n",
      "Accuracy of horse : 52 %\n",
      "Accuracy of  ship : 69 %\n",
      "Accuracy of truck : 66 %\n"
     ]
    }
   ],
   "source": [
    "initial_accuracy = test_model(net, testloader, classes)"
   ]
  },
  {
   "cell_type": "code",
   "execution_count": 200,
   "metadata": {},
   "outputs": [],
   "source": [
    "# let's start building out a LoRALinear layer\n",
    "class LoRALinear(nn.Module):\n",
    "  \"\"\"\n",
    "  This is a low-rank adapted linear layer that can be used to replace a standard linear layer.\n",
    "  \n",
    "  \n",
    "  Args:\n",
    "    module: The linear layer module to adapt.\n",
    "    rank: The rank of the approximation.\n",
    "    alpha: The alpha parameter.\n",
    "  \"\"\"\n",
    "\n",
    "  def __init__(\n",
    "    self,\n",
    "    module: nn.Module,\n",
    "    # in_dim: int,\n",
    "    # out_dim: int,\n",
    "    rank: int = 4,\n",
    "    alpha: float = 4.0\n",
    "  ):\n",
    "    # ensure the module is a linear layer\n",
    "    assert isinstance(module, nn.Linear), \"Module must be a linear layer.\"\n",
    "\n",
    "    super().__init__() # call the __init__() method of the parent class\n",
    "    self.rank = rank # rank of the approximation\n",
    "    self.alpha = alpha # alpha parameter\n",
    "    self.scaling = self.alpha / self.rank # scaling factor\n",
    "    self.in_dim = module.in_features # number of input features\n",
    "    self.out_dim = module.out_features # number of output features\n",
    "\n",
    "    # make sure that rank is at least 1\n",
    "    assert self.rank >= 1, \"Rank must be at least 1.\"\n",
    "\n",
    "    # recreate the linear layer and freeze it\n",
    "    # note: we will copy over the pretrained weights after initializing\n",
    "    self.pretrained = nn.Linear(self.in_dim, self.out_dim, bias=True)\n",
    "    self.pretrained.weight = nn.Parameter(module.weight.detach().clone())\n",
    "    self.pretrained.bias = nn.Parameter(module.bias.detach().clone())\n",
    "    self.pretrained.weight.requires_grad = False # freeze the weights\n",
    "    self.pretrained.bias.requires_grad = False # freeze the bias\n",
    "\n",
    "    # create the A and initialize with Kaiming\n",
    "    self.A = nn.Linear(self.in_dim, rank, bias=False)\n",
    "    nn.init.kaiming_uniform_(self.A.weight, a=math.sqrt(5))\n",
    "\n",
    "    # create B and initialize with zeros\n",
    "    self.B = nn.Linear(rank, self.out_dim, bias=False)\n",
    "    nn.init.zeros_(self.B.weight)\n",
    "\n",
    "    # ensure that the weights in A and B are trainable\n",
    "    self.A.weight.requires_grad = True\n",
    "    self.B.weight.requires_grad = True\n",
    "\n",
    "  def forward(self, x: torch.Tensor):\n",
    "    \"\"\"\n",
    "    Perform the forward pass of the layer.\n",
    "    \n",
    "    Args:\n",
    "      x: The input tensor.\n",
    "    \"\"\"\n",
    "    pretrained_out = self.pretrained(x) # get the pretrained weights\n",
    "    lora_out = self.A(x) # \n",
    "    lora_out = self.B(lora_out)\n",
    "    lora_out = lora_out * self.scaling\n",
    "    return pretrained_out + lora_out\n",
    "  \n",
    "\n",
    "\n",
    "\n"
   ]
  },
  {
   "cell_type": "code",
   "execution_count": 201,
   "metadata": {},
   "outputs": [],
   "source": [
    "def freeze_parameters(model: nn.Module):\n",
    "  \"\"\"\n",
    "  Freeze all parameters in the model.\n",
    "  \n",
    "  Args:\n",
    "    model: The model to freeze the parameters of.\n",
    "  \"\"\"\n",
    "  for param in model.parameters(): # iterate over the parameters of the model\n",
    "    param.requires_grad = False # freeze the parameter\n",
    "\n",
    "def unfreeze_parameters(model: nn.Module):\n",
    "  \"\"\"\n",
    "  Unfreeze all parameters in the model.\n",
    "  \n",
    "  Args:\n",
    "    model: The model to unfreeze the parameters of.\n",
    "  \"\"\"\n",
    "  for param in model.parameters(): # iterate over the parameters of the model\n",
    "    param.requires_grad = True # unfreeze the parameter\n",
    "\n",
    "# create a function to replace all linear layers in the the net with LoRALinear layers\n",
    "def update_model(model: nn.Module, rank: int = 4, alpha: float = 4.0, device: str = 'cpu'):\n",
    "  \"\"\"\n",
    "  Replaces all linear layers in the model with LoRALinear layers.\n",
    "  \n",
    "  Args:\n",
    "    model: The model to update.\n",
    "    rank: The rank of the approximation.\n",
    "    alpha: The alpha parameter.\n",
    "  \"\"\"\n",
    "  # make sure there are no LoRALinear layers in the model; return if there are\n",
    "  for name, module in model.named_modules():\n",
    "    if isinstance(module, LoRALinear):\n",
    "      print(\"Model already contains LoRALinear layers.\")\n",
    "      return\n",
    "      \n",
    "  freeze_parameters(model) # freeze all parameters in the model\n",
    "\n",
    "  for name, module in model.named_children(): # iterate over the children of the model\n",
    "    if isinstance(module, nn.Linear): # if the module is a linear layer\n",
    "      setattr(model, name, LoRALinear(module, rank, alpha)) # replace it with a LoRALinear layer\n",
    "      print(f\"Replaced {name} with LoRALinear layer.\")\n",
    "    else: # otherwise\n",
    "      update_model(module, rank, alpha) # recursively call the function on the module\n",
    "\n",
    "  # move the model to the device\n",
    "  model.to(device)\n",
    "\n",
    "  # ensure low-rank matrices are trainable\n",
    "  for name, module in model.named_modules():\n",
    "    if isinstance(module, LoRALinear):\n",
    "      module.A.weight.requires_grad = True\n",
    "      module.B.weight.requires_grad = True"
   ]
  },
  {
   "cell_type": "code",
   "execution_count": 202,
   "metadata": {},
   "outputs": [
    {
     "name": "stdout",
     "output_type": "stream",
     "text": [
      "Layers:\n",
      "- conv1.weight of size torch.Size([6, 3, 5, 5]) -> untrainable\n",
      "- conv1.bias of size torch.Size([6]) -> untrainable\n",
      "- conv2.weight of size torch.Size([16, 6, 5, 5]) -> untrainable\n",
      "- conv2.bias of size torch.Size([16]) -> untrainable\n",
      "- conv3.weight of size torch.Size([32, 16, 5, 5]) -> untrainable\n",
      "- conv3.bias of size torch.Size([32]) -> untrainable\n",
      "- fc1.weight of size torch.Size([120, 400]) -> untrainable\n",
      "- fc1.bias of size torch.Size([120]) -> untrainable\n",
      "- fc2.weight of size torch.Size([84, 120]) -> untrainable\n",
      "- fc2.bias of size torch.Size([84]) -> untrainable\n",
      "- fc3.weight of size torch.Size([10, 84]) -> untrainable\n",
      "- fc3.bias of size torch.Size([10]) -> untrainable\n",
      "\n",
      "Trainable parameters: 0\n",
      "Untrainable parameters: 74838\n",
      "Total parameters: 74838\n",
      "Percent trainable: 0.0%\n",
      "Size of trainable parameters: 0.00 mb\n",
      "Layers:\n",
      "- conv1.weight of size torch.Size([6, 3, 5, 5]) -> trainable\n",
      "- conv1.bias of size torch.Size([6]) -> trainable\n",
      "- conv2.weight of size torch.Size([16, 6, 5, 5]) -> trainable\n",
      "- conv2.bias of size torch.Size([16]) -> trainable\n",
      "- conv3.weight of size torch.Size([32, 16, 5, 5]) -> trainable\n",
      "- conv3.bias of size torch.Size([32]) -> trainable\n",
      "- fc1.weight of size torch.Size([120, 400]) -> trainable\n",
      "- fc1.bias of size torch.Size([120]) -> trainable\n",
      "- fc2.weight of size torch.Size([84, 120]) -> trainable\n",
      "- fc2.bias of size torch.Size([84]) -> trainable\n",
      "- fc3.weight of size torch.Size([10, 84]) -> trainable\n",
      "- fc3.bias of size torch.Size([10]) -> trainable\n",
      "\n",
      "Trainable parameters: 74838\n",
      "Untrainable parameters: 0\n",
      "Total parameters: 74838\n",
      "Percent trainable: 100.0%\n",
      "Size of trainable parameters: 0.30 mb\n"
     ]
    }
   ],
   "source": [
    "freeze_parameters(net)\n",
    "print_params(net)\n",
    "unfreeze_parameters(net)\n",
    "print_params(net)"
   ]
  },
  {
   "cell_type": "code",
   "execution_count": 203,
   "metadata": {},
   "outputs": [
    {
     "name": "stdout",
     "output_type": "stream",
     "text": [
      "Replaced fc1 with LoRALinear layer.\n",
      "Replaced fc2 with LoRALinear layer.\n",
      "Replaced fc3 with LoRALinear layer.\n",
      "Layers:\n",
      "- conv1.weight of size torch.Size([6, 3, 5, 5]) -> untrainable\n",
      "- conv1.bias of size torch.Size([6]) -> untrainable\n",
      "- conv2.weight of size torch.Size([16, 6, 5, 5]) -> untrainable\n",
      "- conv2.bias of size torch.Size([16]) -> untrainable\n",
      "- conv3.weight of size torch.Size([32, 16, 5, 5]) -> untrainable\n",
      "- conv3.bias of size torch.Size([32]) -> untrainable\n",
      "- fc1.pretrained.weight of size torch.Size([120, 400]) -> untrainable\n",
      "- fc1.pretrained.bias of size torch.Size([120]) -> untrainable\n",
      "- fc1.A.weight of size torch.Size([4, 400]) -> trainable\n",
      "- fc1.B.weight of size torch.Size([120, 4]) -> trainable\n",
      "- fc2.pretrained.weight of size torch.Size([84, 120]) -> untrainable\n",
      "- fc2.pretrained.bias of size torch.Size([84]) -> untrainable\n",
      "- fc2.A.weight of size torch.Size([4, 120]) -> trainable\n",
      "- fc2.B.weight of size torch.Size([84, 4]) -> trainable\n",
      "- fc3.pretrained.weight of size torch.Size([10, 84]) -> untrainable\n",
      "- fc3.pretrained.bias of size torch.Size([10]) -> untrainable\n",
      "- fc3.A.weight of size torch.Size([4, 84]) -> trainable\n",
      "- fc3.B.weight of size torch.Size([10, 4]) -> trainable\n",
      "\n",
      "Trainable parameters: 3272\n",
      "Untrainable parameters: 74838\n",
      "Total parameters: 78110\n",
      "Percent trainable: 4.188964281141979%\n",
      "Size of trainable parameters: 0.01 mb\n"
     ]
    }
   ],
   "source": [
    "update_model(net, device=device) # update the model\n",
    "print_params(net) # print the number of parameters"
   ]
  },
  {
   "cell_type": "code",
   "execution_count": 204,
   "metadata": {},
   "outputs": [
    {
     "data": {
      "image/png": "[encoded data removed]",
      "text/plain": [
       "<Figure size 640x480 with 1 Axes>"
      ]
     },
     "metadata": {},
     "output_type": "display_data"
    }
   ],
   "source": [
    "# it looks like the 'cat', 'bird', and 'dog' classes had a low accuracy; let's fine tune the\n",
    "# lora-adapted model on those classes\n",
    "\n",
    "# create a new trainset that only contains the cat, bird, and dog classes\n",
    "new_trainset = [data for data in trainset if data[1] == classes.index('cat') or data[1] == classes.index('bird') or data[1] == classes.index('dog')]\n",
    "\n",
    "# create a trainloader for only the cat, bird, and dog classes\n",
    "new_trainloader = torch.utils.data.DataLoader(new_trainset, batch_size=4, shuffle=True, num_workers=2)\n",
    "\n",
    "# let's print a few of the cat images# Display some of the cat images\n",
    "new_dataiter = iter(new_trainloader) # create an iterator\n",
    "new_images, new_labels = next(new_dataiter) # get the next batch of images and labels\n",
    "\n",
    "# print images\n",
    "showimg(torchvision.utils.make_grid(new_images))\n"
   ]
  },
  {
   "cell_type": "code",
   "execution_count": 205,
   "metadata": {},
   "outputs": [
    {
     "name": "stdout",
     "output_type": "stream",
     "text": [
      "[1,  2000] loss: 26.746\n",
      "Finished epoch 1\n",
      "[2,  2000] loss: 16.913\n",
      "Finished epoch 2\n",
      "Finished training\n"
     ]
    }
   ],
   "source": [
    "# let's continue training the lora-adapted model on just the cat class\n",
    "optimizer = optim.SGD(net.parameters(), lr=0.0001, momentum=0.9) # update the optimizer for the new parameters\n",
    "train(net, criterion, optimizer, new_trainloader, num_epochs=2, device=device, announce=100)\n"
   ]
  },
  {
   "cell_type": "code",
   "execution_count": 206,
   "metadata": {},
   "outputs": [
    {
     "name": "stdout",
     "output_type": "stream",
     "text": [
      "Layers:\n",
      "- conv1.weight of size torch.Size([6, 3, 5, 5]) -> untrainable\n",
      "- conv1.bias of size torch.Size([6]) -> untrainable\n",
      "- conv2.weight of size torch.Size([16, 6, 5, 5]) -> untrainable\n",
      "- conv2.bias of size torch.Size([16]) -> untrainable\n",
      "- conv3.weight of size torch.Size([32, 16, 5, 5]) -> untrainable\n",
      "- conv3.bias of size torch.Size([32]) -> untrainable\n",
      "- fc1.pretrained.weight of size torch.Size([120, 400]) -> untrainable\n",
      "- fc1.pretrained.bias of size torch.Size([120]) -> untrainable\n",
      "- fc1.A.weight of size torch.Size([4, 400]) -> trainable\n",
      "- fc1.B.weight of size torch.Size([120, 4]) -> trainable\n",
      "- fc2.pretrained.weight of size torch.Size([84, 120]) -> untrainable\n",
      "- fc2.pretrained.bias of size torch.Size([84]) -> untrainable\n",
      "- fc2.A.weight of size torch.Size([4, 120]) -> trainable\n",
      "- fc2.B.weight of size torch.Size([84, 4]) -> trainable\n",
      "- fc3.pretrained.weight of size torch.Size([10, 84]) -> untrainable\n",
      "- fc3.pretrained.bias of size torch.Size([10]) -> untrainable\n",
      "- fc3.A.weight of size torch.Size([4, 84]) -> trainable\n",
      "- fc3.B.weight of size torch.Size([10, 4]) -> trainable\n",
      "\n",
      "Trainable parameters: 3272\n",
      "Untrainable parameters: 74838\n",
      "Total parameters: 78110\n",
      "Percent trainable: 4.188964281141979%\n",
      "Size of trainable parameters: 0.01 mb\n",
      "fc1.B.weight has all zero weights: False\n",
      "fc2.B.weight has all zero weights: False\n",
      "fc3.B.weight has all zero weights: False\n"
     ]
    }
   ],
   "source": [
    "# double check the params\n",
    "print_params(net)\n",
    "\n",
    "# some of the A and B matrices should have changed\n",
    "# check to see if B weights are non-zero\n",
    "for name, param in net.named_parameters():\n",
    "  if 'B.weight' in name:\n",
    "    print(f\"{name} has all zero weights: {torch.all(param == 0)}\")"
   ]
  },
  {
   "cell_type": "code",
   "execution_count": 207,
   "metadata": {},
   "outputs": [
    {
     "data": {
      "image/png": "[encoded data removed]",
      "text/plain": [
       "<Figure size 640x480 with 1 Axes>"
      ]
     },
     "metadata": {},
     "output_type": "display_data"
    },
    {
     "name": "stdout",
     "output_type": "stream",
     "text": [
      "GroundTruth:    cat  ship  ship plane\n",
      "Predicted:    cat  ship  ship  bird\n",
      "Accuracy of the network on the 10000 test images: 23.45%\n",
      "\n",
      "Accuracy of plane :  3 %\n",
      "Accuracy of   car : 21 %\n",
      "Accuracy of  bird : 68 %\n",
      "Accuracy of   cat : 53 %\n",
      "Accuracy of  deer :  0 %\n",
      "Accuracy of   dog : 58 %\n",
      "Accuracy of  frog :  0 %\n",
      "Accuracy of horse :  1 %\n",
      "Accuracy of  ship : 17 %\n",
      "Accuracy of truck : 10 %\n"
     ]
    }
   ],
   "source": [
    "# let's check the accuracy on all classes again; we should see an improvement in the cat class\n",
    "new_accuracy = test_model(net, testloader, classes)"
   ]
  },
  {
   "cell_type": "code",
   "execution_count": 209,
   "metadata": {},
   "outputs": [
    {
     "name": "stdout",
     "output_type": "stream",
     "text": [
      "plane: -51.5%\n",
      "car: -45.9%\n",
      "bird: +19.4%\n",
      "cat: +11.5%\n",
      "deer: -50.8%\n",
      "dog: +19.7%\n",
      "frog: -58.3%\n",
      "horse: -51.6%\n",
      "ship: -52.3%\n",
      "truck: -55.8%\n"
     ]
    }
   ],
   "source": [
    "# compare initial_accuracy and new_accuracy by printing the change in\n",
    "# accuracy for each class \n",
    "for key in initial_accuracy.keys():\n",
    "  change = new_accuracy[key] - initial_accuracy[key]\n",
    "  if change > 0:\n",
    "    print(f\"{key}: +{change:.1f}%\")\n",
    "  else:\n",
    "    print(f\"{key}: {change:.1f}%\")"
   ]
  },
  {
   "cell_type": "code",
   "execution_count": null,
   "metadata": {},
   "outputs": [],
   "source": []
  }
 ],
 "metadata": {
  "kernelspec": {
   "display_name": "venv",
   "language": "python",
   "name": "python3"
  },
  "language_info": {
   "codemirror_mode": {
    "name": "ipython",
    "version": 3
   },
   "file_extension": ".py",
   "mimetype": "text/x-python",
   "name": "python",
   "nbconvert_exporter": "python",
   "pygments_lexer": "ipython3",
   "version": "3.11.2"
  },
  "orig_nbformat": 4
 },
 "nbformat": 4,
 "nbformat_minor": 2
}
